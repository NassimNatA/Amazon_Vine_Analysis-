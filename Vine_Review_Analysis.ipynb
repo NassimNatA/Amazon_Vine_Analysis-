{
  "nbformat": 4,
  "nbformat_minor": 0,
  "metadata": {
    "colab": {
      "name": "Vine_Review_Analysis.ipynb",
      "provenance": []
    },
    "kernelspec": {
      "name": "python3",
      "display_name": "Python 3"
    }
  },
  "cells": [
    {
      "cell_type": "code",
      "metadata": {
        "colab": {
          "base_uri": "https://localhost:8080/"
        },
        "id": "CWCMULweNTx2",
        "outputId": "d5d03088-84a6-482d-f7dd-6cd47c256c79"
      },
      "source": [
        "import os\n",
        "# Find the latest version of spark 2.0  from http://www-us.apache.org/dist/spark/ and enter as the spark version\n",
        "# For example:\n",
        "# spark_version = 'spark-3.0.0'\n",
        "spark_version = 'spark-3.0.1'\n",
        "os.environ['SPARK_VERSION']=spark_version\n",
        "\n",
        "# Install Spark and Java\n",
        "!apt-get update\n",
        "!apt-get install openjdk-11-jdk-headless -qq > /dev/null\n",
        "!wget -q http://www-us.apache.org/dist/spark/$SPARK_VERSION/$SPARK_VERSION-bin-hadoop2.7.tgz\n",
        "!tar xf $SPARK_VERSION-bin-hadoop2.7.tgz\n",
        "!pip install -q findspark\n",
        "\n",
        "# Set Environment Variables\n",
        "import os\n",
        "os.environ[\"JAVA_HOME\"] = \"/usr/lib/jvm/java-11-openjdk-amd64\"\n",
        "os.environ[\"SPARK_HOME\"] = f\"/content/{spark_version}-bin-hadoop2.7\"\n",
        "\n",
        "# Start a SparkSession\n",
        "import findspark\n",
        "findspark.init()"
      ],
      "execution_count": 1,
      "outputs": [
        {
          "output_type": "stream",
          "text": [
            "Ign:1 https://developer.download.nvidia.com/compute/cuda/repos/ubuntu1804/x86_64  InRelease\n",
            "Ign:2 https://developer.download.nvidia.com/compute/machine-learning/repos/ubuntu1804/x86_64  InRelease\n",
            "Get:3 http://security.ubuntu.com/ubuntu bionic-security InRelease [88.7 kB]\n",
            "Hit:4 https://developer.download.nvidia.com/compute/cuda/repos/ubuntu1804/x86_64  Release\n",
            "Get:5 https://cloud.r-project.org/bin/linux/ubuntu bionic-cran40/ InRelease [3,626 B]\n",
            "Hit:6 https://developer.download.nvidia.com/compute/machine-learning/repos/ubuntu1804/x86_64  Release\n",
            "Get:7 http://ppa.launchpad.net/c2d4u.team/c2d4u4.0+/ubuntu bionic InRelease [15.9 kB]\n",
            "Hit:8 http://archive.ubuntu.com/ubuntu bionic InRelease\n",
            "Get:9 http://archive.ubuntu.com/ubuntu bionic-updates InRelease [88.7 kB]\n",
            "Hit:11 http://ppa.launchpad.net/cran/libgit2/ubuntu bionic InRelease\n",
            "Get:12 https://cloud.r-project.org/bin/linux/ubuntu bionic-cran40/ Packages [41.5 kB]\n",
            "Get:13 http://archive.ubuntu.com/ubuntu bionic-backports InRelease [74.6 kB]\n",
            "Hit:14 http://ppa.launchpad.net/graphics-drivers/ppa/ubuntu bionic InRelease\n",
            "Get:16 http://ppa.launchpad.net/c2d4u.team/c2d4u4.0+/ubuntu bionic/main Sources [1,703 kB]\n",
            "Get:17 http://ppa.launchpad.net/c2d4u.team/c2d4u4.0+/ubuntu bionic/main amd64 Packages [872 kB]\n",
            "Fetched 2,889 kB in 3s (1,111 kB/s)\n",
            "Reading package lists... Done\n"
          ],
          "name": "stdout"
        }
      ]
    },
    {
      "cell_type": "code",
      "metadata": {
        "colab": {
          "base_uri": "https://localhost:8080/"
        },
        "id": "ETLMSdzdNic6",
        "outputId": "3e2fe843-4efe-4453-af73-974250865120"
      },
      "source": [
        "# Download the Postgres driver that will allow Spark to interact with Postgres.\n",
        "!wget https://jdbc.postgresql.org/download/postgresql-42.2.16.jar"
      ],
      "execution_count": 2,
      "outputs": [
        {
          "output_type": "stream",
          "text": [
            "--2021-01-02 08:31:11--  https://jdbc.postgresql.org/download/postgresql-42.2.16.jar\n",
            "Resolving jdbc.postgresql.org (jdbc.postgresql.org)... 72.32.157.228, 2001:4800:3e1:1::228\n",
            "Connecting to jdbc.postgresql.org (jdbc.postgresql.org)|72.32.157.228|:443... connected.\n",
            "HTTP request sent, awaiting response... 200 OK\n",
            "Length: 1002883 (979K) [application/java-archive]\n",
            "Saving to: ‘postgresql-42.2.16.jar’\n",
            "\n",
            "postgresql-42.2.16. 100%[===================>] 979.38K  --.-KB/s    in 0.1s    \n",
            "\n",
            "2021-01-02 08:31:12 (6.65 MB/s) - ‘postgresql-42.2.16.jar’ saved [1002883/1002883]\n",
            "\n"
          ],
          "name": "stdout"
        }
      ]
    },
    {
      "cell_type": "code",
      "metadata": {
        "id": "Xp1O--9DOM0u"
      },
      "source": [
        "from pyspark.sql import SparkSession\n",
        "spark = SparkSession.builder.appName(\"BigData-Challenge\").config(\"spark.driver.extraClassPath\",\"/content/postgresql-42.2.16.jar\").getOrCreate()"
      ],
      "execution_count": 3,
      "outputs": []
    },
    {
      "cell_type": "code",
      "metadata": {
        "colab": {
          "base_uri": "https://localhost:8080/"
        },
        "id": "x6hTQeqpOPD4",
        "outputId": "2e78c88f-d35c-4984-8e41-fa9839e1a377"
      },
      "source": [
        "from pyspark import SparkFiles\n",
        "url = \"https://s3.amazonaws.com/amazon-reviews-pds/tsv/amazon_reviews_us_Baby_v1_00.tsv.gz\"\n",
        "spark.sparkContext.addFile(url)\n",
        "df = spark.read.option(\"encoding\", \"UTF-8\").csv(SparkFiles.get(\"amazon_reviews_us_Baby_v1_00.tsv.gz\"), sep=\"\\t\", header=True, inferSchema=True)\n",
        "df.describe()"
      ],
      "execution_count": 4,
      "outputs": [
        {
          "output_type": "execute_result",
          "data": {
            "text/plain": [
              "DataFrame[summary: string, marketplace: string, customer_id: string, review_id: string, product_id: string, product_parent: string, product_title: string, product_category: string, star_rating: string, helpful_votes: string, total_votes: string, vine: string, verified_purchase: string, review_headline: string, review_body: string, review_date: string]"
            ]
          },
          "metadata": {
            "tags": []
          },
          "execution_count": 4
        }
      ]
    },
    {
      "cell_type": "code",
      "metadata": {
        "colab": {
          "base_uri": "https://localhost:8080/"
        },
        "id": "y1Jm1OuJORKn",
        "outputId": "6e9a54d9-e5f3-478c-a204-e3fbf759f104"
      },
      "source": [
        "df.printSchema()"
      ],
      "execution_count": 6,
      "outputs": [
        {
          "output_type": "stream",
          "text": [
            "root\n",
            " |-- marketplace: string (nullable = true)\n",
            " |-- customer_id: integer (nullable = true)\n",
            " |-- review_id: string (nullable = true)\n",
            " |-- product_id: string (nullable = true)\n",
            " |-- product_parent: integer (nullable = true)\n",
            " |-- product_title: string (nullable = true)\n",
            " |-- product_category: string (nullable = true)\n",
            " |-- star_rating: integer (nullable = true)\n",
            " |-- helpful_votes: integer (nullable = true)\n",
            " |-- total_votes: integer (nullable = true)\n",
            " |-- vine: string (nullable = true)\n",
            " |-- verified_purchase: string (nullable = true)\n",
            " |-- review_headline: string (nullable = true)\n",
            " |-- review_body: string (nullable = true)\n",
            " |-- review_date: string (nullable = true)\n",
            "\n"
          ],
          "name": "stdout"
        }
      ]
    },
    {
      "cell_type": "code",
      "metadata": {
        "id": "S3QcL6hpOSyU"
      },
      "source": [
        "from pyspark.sql.functions import to_date\n",
        "from pyspark.sql.types import *"
      ],
      "execution_count": 7,
      "outputs": []
    },
    {
      "cell_type": "code",
      "metadata": {
        "colab": {
          "base_uri": "https://localhost:8080/"
        },
        "id": "Y0XOvOqZOXtS",
        "outputId": "a4352491-c3fc-4ef7-d785-9d53eea521fe"
      },
      "source": [
        "# 1. Filter the data and create a new DataFrame where the total_votes count is equal to or greater than 20\n",
        "df_votes20 = df.filter(df.total_votes >= 20)\n",
        "df_votes20.show()\n"
      ],
      "execution_count": 11,
      "outputs": [
        {
          "output_type": "stream",
          "text": [
            "+-----------+-----------+--------------+----------+--------------+--------------------+----------------+-----------+-------------+-----------+----+-----------------+--------------------+--------------------+-----------+\n",
            "|marketplace|customer_id|     review_id|product_id|product_parent|       product_title|product_category|star_rating|helpful_votes|total_votes|vine|verified_purchase|     review_headline|         review_body|review_date|\n",
            "+-----------+-----------+--------------+----------+--------------+--------------------+----------------+-----------+-------------+-----------+----+-----------------+--------------------+--------------------+-----------+\n",
            "|         US|   14499497| ROI00QN8IS49I|B00M5CMRNE|     326338622|Baltic Amber Teet...|            Baby|          5|           83|         91|   N|                N|Absolutely GORGEO...|Beautiful Amber!<...| 2015-08-31|\n",
            "|         US|    1243530|R13C5INE1RTZP6|B00G66UDAO|     130471439|Sportspower For B...|            Baby|          2|           26|         26|   N|                Y|        nice but....|Nice but the seat...| 2015-08-31|\n",
            "|         US|   22935487| RXVMMXCL67MZN|B00V0VQK1G|       7432246|Delta Children 4-...|            Baby|          4|          378|        383|   N|                Y|perfect for small...|Got these today, ...| 2015-08-31|\n",
            "|         US|   38665516|R33JJQWAUYBKD3|B005ULUZIQ|     420862361|Love to Dream Swa...|            Baby|          5|          270|        280|   N|                Y|worth every penny...|First off, worth ...| 2015-08-31|\n",
            "|         US|   21155796|R3N0XV9267NOXV|B00ZKTVI66|     155258416|Graco LiteRider C...|            Baby|          5|           41|         47|   Y|                N|No more disturbin...|This version of t...| 2015-08-31|\n",
            "|         US|   19070678|R31HQD6YXSQV1W|B004JU0H7S|      19045019|Dream On Me Mattress|            Baby|          3|           40|         48|   N|                Y|I just don't like...|Fits standard siz...| 2015-08-31|\n",
            "|         US|   51688296|R33LQSF958O6K8|B0052QYLUM|     850036950|Infant Optics DXR...|            Baby|          5|           39|         41|   N|                Y|Nice, reliable vi...|I've owned one of...| 2015-08-30|\n",
            "|         US|   44429441|R3OIDSQJ84W7J1|B0101OFK22|     712088413|Baby Nasal Aspira...|            Baby|          5|           21|         24|   N|                N|Must have baby ca...|My little one is ...| 2015-08-30|\n",
            "|         US|   31272932|R3UUR313K5VVTL|B00ZIDWRHS|     776845878|Kids Travel Play ...|            Baby|          1|            1|         24|   N|                Y|      Waste of money|Very flimsy. Not ...| 2015-08-30|\n",
            "|         US|   12732221| RODE8K12S7148|B00ISS2QCQ|     821219016|Diono Rainier Con...|            Baby|          5|           41|         45|   N|                Y|Need to fit 2 acr...|I have baby #3 on...| 2015-08-30|\n",
            "|         US|   27425737|R2QZFYFUKP22SP|B0052QYLUM|     850036950|Infant Optics DXR...|            Baby|          5|           33|         37|   N|                Y|  Bang For Your Buck|This monitor has ...| 2015-08-30|\n",
            "|         US|   38201168| RFON10GAZKDL3|B00T6X3LI0|     154174591|Petunia Pickle Bo...|            Baby|          3|           16|         20|   N|                Y|Nice bag, just do...|nice bag but does...| 2015-08-30|\n",
            "|         US|   43572560|R2UXKAUFMPE0PJ|B00028XJNA|     756441329|Medela Pump and S...|            Baby|          1|           29|         29|   N|                N|  I hate these bags.|These bags make i...| 2015-08-30|\n",
            "|         US|   15976784|R20YYYGIRVB7F1|B00O8RRFZ4|     515574346|Evenflo Maestro B...|            Baby|          1|           32|         41|   N|                N|Wish I had known ...|Wish I had known ...| 2015-08-30|\n",
            "|         US|   31778374|R36065K853ACRA|B00I3K1D00|     613856293|Summer Infant Ext...|            Baby|          3|           28|         34|   N|                Y|             Poor :(|I should have rea...| 2015-08-30|\n",
            "|         US|    1350411| RBS6RYHXL83L8|B00O8RRR2A|      27599661|Evenflo Symphony ...|            Baby|          5|           49|         57|   N|                Y|Best Anchor Conne...|Hands down the be...| 2015-08-30|\n",
            "|         US|   51891452|R2D5JAVXATJOQB|B00YG4DWRO|     330927873|Summer Infant Pee...|            Baby|          4|           45|         48|   N|                Y|\"Almost\" a great ...|Bottom line 4 sta...| 2015-08-30|\n",
            "|         US|   39434327|R1SUS9Y51N3QO8|B006Y3S838|     308351589|Munchkin Click Lo...|            Baby|          1|           42|         46|   N|                N|Very interesting ...|Man Munchkin's re...| 2015-08-30|\n",
            "|         US|    8051838|R3DKDS7674IU4Z|B00BLBLR1I|     186458204|Spectra Baby USA ...|            Baby|          5|           29|         31|   N|                N|       Great pump!!!|I love my spectra...| 2015-08-30|\n",
            "|         US|   18224278|R3VER1GSR74AHB|B00UE7RP20|     479561903|BabyKeeps Adjusta...|            Baby|          4|           38|         39|   N|                Y|Good for cat proo...|[[VIDEOID:540ba57...| 2015-08-30|\n",
            "+-----------+-----------+--------------+----------+--------------+--------------------+----------------+-----------+-------------+-----------+----+-----------------+--------------------+--------------------+-----------+\n",
            "only showing top 20 rows\n",
            "\n"
          ],
          "name": "stdout"
        }
      ]
    },
    {
      "cell_type": "code",
      "metadata": {
        "colab": {
          "base_uri": "https://localhost:8080/"
        },
        "id": "LikHcxbBPGEH",
        "outputId": "b176089b-4e61-40fc-c830-a6aea59eedc0"
      },
      "source": [
        "#2. Filter and create a new DataFrame or table to retrieve all the rows where the number of helpful_votes divided by total_votes is equal to or greater than 50%.\n",
        "percent50votes_df = df_votes20.withColumn('percent_vote', df_votes20['helpful_votes']/ df_votes20['total_votes'])\n",
        "Newdfvotes_df = percent50votes_df.filter('percent_vote >= 0.50')\n",
        "Newdfvotes_df.show(20)"
      ],
      "execution_count": 16,
      "outputs": [
        {
          "output_type": "stream",
          "text": [
            "+-----------+-----------+--------------+----------+--------------+--------------------+----------------+-----------+-------------+-----------+----+-----------------+--------------------+--------------------+-----------+------------------+\n",
            "|marketplace|customer_id|     review_id|product_id|product_parent|       product_title|product_category|star_rating|helpful_votes|total_votes|vine|verified_purchase|     review_headline|         review_body|review_date|      percent_vote|\n",
            "+-----------+-----------+--------------+----------+--------------+--------------------+----------------+-----------+-------------+-----------+----+-----------------+--------------------+--------------------+-----------+------------------+\n",
            "|         US|   14499497| ROI00QN8IS49I|B00M5CMRNE|     326338622|Baltic Amber Teet...|            Baby|          5|           83|         91|   N|                N|Absolutely GORGEO...|Beautiful Amber!<...| 2015-08-31|0.9120879120879121|\n",
            "|         US|    1243530|R13C5INE1RTZP6|B00G66UDAO|     130471439|Sportspower For B...|            Baby|          2|           26|         26|   N|                Y|        nice but....|Nice but the seat...| 2015-08-31|               1.0|\n",
            "|         US|   22935487| RXVMMXCL67MZN|B00V0VQK1G|       7432246|Delta Children 4-...|            Baby|          4|          378|        383|   N|                Y|perfect for small...|Got these today, ...| 2015-08-31|0.9869451697127938|\n",
            "|         US|   38665516|R33JJQWAUYBKD3|B005ULUZIQ|     420862361|Love to Dream Swa...|            Baby|          5|          270|        280|   N|                Y|worth every penny...|First off, worth ...| 2015-08-31|0.9642857142857143|\n",
            "|         US|   21155796|R3N0XV9267NOXV|B00ZKTVI66|     155258416|Graco LiteRider C...|            Baby|          5|           41|         47|   Y|                N|No more disturbin...|This version of t...| 2015-08-31|0.8723404255319149|\n",
            "|         US|   19070678|R31HQD6YXSQV1W|B004JU0H7S|      19045019|Dream On Me Mattress|            Baby|          3|           40|         48|   N|                Y|I just don't like...|Fits standard siz...| 2015-08-31|0.8333333333333334|\n",
            "|         US|   51688296|R33LQSF958O6K8|B0052QYLUM|     850036950|Infant Optics DXR...|            Baby|          5|           39|         41|   N|                Y|Nice, reliable vi...|I've owned one of...| 2015-08-30|0.9512195121951219|\n",
            "|         US|   44429441|R3OIDSQJ84W7J1|B0101OFK22|     712088413|Baby Nasal Aspira...|            Baby|          5|           21|         24|   N|                N|Must have baby ca...|My little one is ...| 2015-08-30|             0.875|\n",
            "|         US|   12732221| RODE8K12S7148|B00ISS2QCQ|     821219016|Diono Rainier Con...|            Baby|          5|           41|         45|   N|                Y|Need to fit 2 acr...|I have baby #3 on...| 2015-08-30|0.9111111111111111|\n",
            "|         US|   27425737|R2QZFYFUKP22SP|B0052QYLUM|     850036950|Infant Optics DXR...|            Baby|          5|           33|         37|   N|                Y|  Bang For Your Buck|This monitor has ...| 2015-08-30|0.8918918918918919|\n",
            "|         US|   38201168| RFON10GAZKDL3|B00T6X3LI0|     154174591|Petunia Pickle Bo...|            Baby|          3|           16|         20|   N|                Y|Nice bag, just do...|nice bag but does...| 2015-08-30|               0.8|\n",
            "|         US|   43572560|R2UXKAUFMPE0PJ|B00028XJNA|     756441329|Medela Pump and S...|            Baby|          1|           29|         29|   N|                N|  I hate these bags.|These bags make i...| 2015-08-30|               1.0|\n",
            "|         US|   15976784|R20YYYGIRVB7F1|B00O8RRFZ4|     515574346|Evenflo Maestro B...|            Baby|          1|           32|         41|   N|                N|Wish I had known ...|Wish I had known ...| 2015-08-30|0.7804878048780488|\n",
            "|         US|   31778374|R36065K853ACRA|B00I3K1D00|     613856293|Summer Infant Ext...|            Baby|          3|           28|         34|   N|                Y|             Poor :(|I should have rea...| 2015-08-30|0.8235294117647058|\n",
            "|         US|    1350411| RBS6RYHXL83L8|B00O8RRR2A|      27599661|Evenflo Symphony ...|            Baby|          5|           49|         57|   N|                Y|Best Anchor Conne...|Hands down the be...| 2015-08-30|0.8596491228070176|\n",
            "|         US|   51891452|R2D5JAVXATJOQB|B00YG4DWRO|     330927873|Summer Infant Pee...|            Baby|          4|           45|         48|   N|                Y|\"Almost\" a great ...|Bottom line 4 sta...| 2015-08-30|            0.9375|\n",
            "|         US|   39434327|R1SUS9Y51N3QO8|B006Y3S838|     308351589|Munchkin Click Lo...|            Baby|          1|           42|         46|   N|                N|Very interesting ...|Man Munchkin's re...| 2015-08-30|0.9130434782608695|\n",
            "|         US|    8051838|R3DKDS7674IU4Z|B00BLBLR1I|     186458204|Spectra Baby USA ...|            Baby|          5|           29|         31|   N|                N|       Great pump!!!|I love my spectra...| 2015-08-30|0.9354838709677419|\n",
            "|         US|   18224278|R3VER1GSR74AHB|B00UE7RP20|     479561903|BabyKeeps Adjusta...|            Baby|          4|           38|         39|   N|                Y|Good for cat proo...|[[VIDEOID:540ba57...| 2015-08-30|0.9743589743589743|\n",
            "|         US|    9204908| R4KKILPJRQ2J5|B005CF35O6|     813915180|Baby Einstein Ani...|            Baby|          1|           12|         20|   N|                Y|cheap...w visual aid|It's been a month...| 2015-08-29|               0.6|\n",
            "+-----------+-----------+--------------+----------+--------------+--------------------+----------------+-----------+-------------+-----------+----+-----------------+--------------------+--------------------+-----------+------------------+\n",
            "only showing top 20 rows\n",
            "\n"
          ],
          "name": "stdout"
        }
      ]
    },
    {
      "cell_type": "code",
      "metadata": {
        "colab": {
          "base_uri": "https://localhost:8080/"
        },
        "id": "qOrZ9WMLQR1l",
        "outputId": "96bb2e56-9af2-4b08-a1ed-270ba2bbf81b"
      },
      "source": [
        "#3. Filter the DataFrame in Step 2, retrieve all the rows where a review was written as part of the Vine program (paid)\n",
        "df_reviewpaid = Newdfvotes_df.filter(Newdfvotes_df.vine == \"Y\")\n",
        "df_reviewpaid.show()"
      ],
      "execution_count": 18,
      "outputs": [
        {
          "output_type": "stream",
          "text": [
            "+-----------+-----------+--------------+----------+--------------+--------------------+----------------+-----------+-------------+-----------+----+-----------------+--------------------+--------------------+-----------+------------------+\n",
            "|marketplace|customer_id|     review_id|product_id|product_parent|       product_title|product_category|star_rating|helpful_votes|total_votes|vine|verified_purchase|     review_headline|         review_body|review_date|      percent_vote|\n",
            "+-----------+-----------+--------------+----------+--------------+--------------------+----------------+-----------+-------------+-----------+----+-----------------+--------------------+--------------------+-----------+------------------+\n",
            "|         US|   21155796|R3N0XV9267NOXV|B00ZKTVI66|     155258416|Graco LiteRider C...|            Baby|          5|           41|         47|   Y|                N|No more disturbin...|This version of t...| 2015-08-31|0.8723404255319149|\n",
            "|         US|   25087234| RSA6JQ346JZHZ|B00SIL7EZ2|     916919021|Skip Hop Moonligh...|            Baby|          5|           55|         64|   Y|                Y|Very helpful for ...|Oh my God, this n...| 2015-08-29|          0.859375|\n",
            "|         US|   16520946|R1FXF4HRMCLG4C|B00Y2863CA|     367225394|Graco Nautilus 65...|            Baby|          5|           69|         84|   Y|                N|A great seat with...|This is my third ...| 2015-08-28|0.8214285714285714|\n",
            "|         US|   44759540| RCTBWC3II42MG|B00ZKTVI66|     155258416|Graco LiteRider C...|            Baby|          4|          113|        117|   Y|                N|Excellent Strolle...|We love this stro...| 2015-08-28|0.9658119658119658|\n",
            "|         US|   29647935| RTMQM2CQ1XIZ0|B00Y286O6U|     431170285|  Graco Glider Elite|            Baby|          5|           21|         25|   Y|                N|gentle gliding mo...|I really like thi...| 2015-08-20|              0.84|\n",
            "|         US|   48428870|R2CBJLCKQ612KU|B00UT0E4KI|     420347411|Ingenuity Trio 3-...|            Baby|          4|           27|         35|   Y|                N|Good 3-in-1 high ...|This is a nice 3-...| 2015-08-20|0.7714285714285715|\n",
            "|         US|   12292839|R322QDGO4AV2B5|B00Y2863CA|     367225394|Graco Nautilus 65...|            Baby|          5|           55|         65|   Y|                N|From box to SUV i...|Wow!  I was reall...| 2015-08-18|0.8461538461538461|\n",
            "|         US|   14834258| R2S7CXRDGQ6EE|B00PX8PDII|      95589830|Graco Aire3 Click...|            Baby|          4|           36|         39|   Y|                N|Does not work as ...|This is a nice st...| 2015-08-18|0.9230769230769231|\n",
            "|         US|   12257250|R3ECMXK0SGR1VV|B00SIL7EZ2|     916919021|Skip Hop Moonligh...|            Baby|          5|           59|         64|   Y|                N|Excellent night l...|My five year old ...| 2015-08-14|          0.921875|\n",
            "|         US|   52850919|R3D55CPJ6J6Z78|B00Y2863CA|     367225394|Graco Nautilus 65...|            Baby|          4|           15|         20|   Y|                N|Seems comfortable...|My daughter is 23...| 2015-08-12|              0.75|\n",
            "|         US|   49336498|R1Y9OYIUCP3WD2|B00NFET6TY|     107666419|Fisher-Price Snug...|            Baby|          4|           20|         20|   Y|                N|   Some shortcomings|I got this Snugap...| 2015-08-10|               1.0|\n",
            "|         US|   16520946| RT8AV0IB2PGHH|B00Y286AHS|     688619226|Graco 4ever All-i...|            Baby|          4|          108|        132|   Y|                N|Very functional s...|This is a very fu...| 2015-08-09|0.8181818181818182|\n",
            "|         US|   47030935|R2RLHJRJD9B0NX|B00WANFZIM|     132509648|Skip Hop Baby Zoo...|            Baby|          3|           44|         47|   Y|                N|I really wanted t...|This is an absolu...| 2015-08-09|0.9361702127659575|\n",
            "|         US|   31461331| RAPD7IX0LPZ10|B00NFETDR4|      72779138|Fisher-Price Calm...|            Baby|          4|           36|         37|   Y|                N|Adorable!!! Just ...|This Fisher Price...| 2015-08-07| 0.972972972972973|\n",
            "|         US|   45725380|R37QPCBNR07PPR|B00821FLT4|     322274430|    Ubbi Diaper Pail|            Baby|          1|           22|         27|   Y|                N|Pretty Much a Tra...|So I admit, I rea...| 2015-07-25|0.8148148148148148|\n",
            "|         US|   13797074|R3BRFPK8N59XPY|B00Y286AHS|     688619226|Graco 4ever All-i...|            Baby|          5|          364|        395|   Y|                N|Comfortable, Safe...|I have four child...| 2015-07-22|0.9215189873417722|\n",
            "|         US|   44737123|R1WE59I775L7L9|B00821FLT4|     322274430|    Ubbi Diaper Pail|            Baby|          4|           31|         33|   Y|                N|The Cadilac of Di...|Ubbi Diaper Pail,...| 2015-07-18|0.9393939393939394|\n",
            "|         US|   52866296| RO8IGQJV1PKCJ|B00PX8PCSO|     693305455|Graco Aire3 Click...|            Baby|          5|           78|         84|   Y|                N|The higher qualit...|You get the strol...| 2015-07-17|0.9285714285714286|\n",
            "|         US|   48428870| RWZDJT9MQP6A4|B00V0ARIBI|     712341274|  Chicco Nextfit Zip|            Baby|          5|           86|         97|   Y|                N|Very well thought...|I watch my grands...| 2015-07-12|0.8865979381443299|\n",
            "|         US|   31302915|R2VDXEVKFSJU36|B00PX8PQBC|     151402377|Graco Relay Click...|            Baby|          5|           20|         22|   Y|                N|Excellent jogger ...|We are Bob stroll...| 2015-07-08|0.9090909090909091|\n",
            "+-----------+-----------+--------------+----------+--------------+--------------------+----------------+-----------+-------------+-----------+----+-----------------+--------------------+--------------------+-----------+------------------+\n",
            "only showing top 20 rows\n",
            "\n"
          ],
          "name": "stdout"
        }
      ]
    },
    {
      "cell_type": "code",
      "metadata": {
        "colab": {
          "base_uri": "https://localhost:8080/"
        },
        "id": "ozUkLyN1Rk8X",
        "outputId": "4deddd4c-8371-4f06-ae4e-cf040cf61dde"
      },
      "source": [
        "#4. Repeat Step 3, but this time retrieve all the rows where the review was not part of the Vine program (unpaid)\n",
        "df_notpaid = Newdfvotes_df.filter(Newdfvotes_df.vine == \"N\")\n",
        "df_notpaid.show()"
      ],
      "execution_count": 19,
      "outputs": [
        {
          "output_type": "stream",
          "text": [
            "+-----------+-----------+--------------+----------+--------------+--------------------+----------------+-----------+-------------+-----------+----+-----------------+--------------------+--------------------+-----------+------------------+\n",
            "|marketplace|customer_id|     review_id|product_id|product_parent|       product_title|product_category|star_rating|helpful_votes|total_votes|vine|verified_purchase|     review_headline|         review_body|review_date|      percent_vote|\n",
            "+-----------+-----------+--------------+----------+--------------+--------------------+----------------+-----------+-------------+-----------+----+-----------------+--------------------+--------------------+-----------+------------------+\n",
            "|         US|   14499497| ROI00QN8IS49I|B00M5CMRNE|     326338622|Baltic Amber Teet...|            Baby|          5|           83|         91|   N|                N|Absolutely GORGEO...|Beautiful Amber!<...| 2015-08-31|0.9120879120879121|\n",
            "|         US|    1243530|R13C5INE1RTZP6|B00G66UDAO|     130471439|Sportspower For B...|            Baby|          2|           26|         26|   N|                Y|        nice but....|Nice but the seat...| 2015-08-31|               1.0|\n",
            "|         US|   22935487| RXVMMXCL67MZN|B00V0VQK1G|       7432246|Delta Children 4-...|            Baby|          4|          378|        383|   N|                Y|perfect for small...|Got these today, ...| 2015-08-31|0.9869451697127938|\n",
            "|         US|   38665516|R33JJQWAUYBKD3|B005ULUZIQ|     420862361|Love to Dream Swa...|            Baby|          5|          270|        280|   N|                Y|worth every penny...|First off, worth ...| 2015-08-31|0.9642857142857143|\n",
            "|         US|   19070678|R31HQD6YXSQV1W|B004JU0H7S|      19045019|Dream On Me Mattress|            Baby|          3|           40|         48|   N|                Y|I just don't like...|Fits standard siz...| 2015-08-31|0.8333333333333334|\n",
            "|         US|   51688296|R33LQSF958O6K8|B0052QYLUM|     850036950|Infant Optics DXR...|            Baby|          5|           39|         41|   N|                Y|Nice, reliable vi...|I've owned one of...| 2015-08-30|0.9512195121951219|\n",
            "|         US|   44429441|R3OIDSQJ84W7J1|B0101OFK22|     712088413|Baby Nasal Aspira...|            Baby|          5|           21|         24|   N|                N|Must have baby ca...|My little one is ...| 2015-08-30|             0.875|\n",
            "|         US|   12732221| RODE8K12S7148|B00ISS2QCQ|     821219016|Diono Rainier Con...|            Baby|          5|           41|         45|   N|                Y|Need to fit 2 acr...|I have baby #3 on...| 2015-08-30|0.9111111111111111|\n",
            "|         US|   27425737|R2QZFYFUKP22SP|B0052QYLUM|     850036950|Infant Optics DXR...|            Baby|          5|           33|         37|   N|                Y|  Bang For Your Buck|This monitor has ...| 2015-08-30|0.8918918918918919|\n",
            "|         US|   38201168| RFON10GAZKDL3|B00T6X3LI0|     154174591|Petunia Pickle Bo...|            Baby|          3|           16|         20|   N|                Y|Nice bag, just do...|nice bag but does...| 2015-08-30|               0.8|\n",
            "|         US|   43572560|R2UXKAUFMPE0PJ|B00028XJNA|     756441329|Medela Pump and S...|            Baby|          1|           29|         29|   N|                N|  I hate these bags.|These bags make i...| 2015-08-30|               1.0|\n",
            "|         US|   15976784|R20YYYGIRVB7F1|B00O8RRFZ4|     515574346|Evenflo Maestro B...|            Baby|          1|           32|         41|   N|                N|Wish I had known ...|Wish I had known ...| 2015-08-30|0.7804878048780488|\n",
            "|         US|   31778374|R36065K853ACRA|B00I3K1D00|     613856293|Summer Infant Ext...|            Baby|          3|           28|         34|   N|                Y|             Poor :(|I should have rea...| 2015-08-30|0.8235294117647058|\n",
            "|         US|    1350411| RBS6RYHXL83L8|B00O8RRR2A|      27599661|Evenflo Symphony ...|            Baby|          5|           49|         57|   N|                Y|Best Anchor Conne...|Hands down the be...| 2015-08-30|0.8596491228070176|\n",
            "|         US|   51891452|R2D5JAVXATJOQB|B00YG4DWRO|     330927873|Summer Infant Pee...|            Baby|          4|           45|         48|   N|                Y|\"Almost\" a great ...|Bottom line 4 sta...| 2015-08-30|            0.9375|\n",
            "|         US|   39434327|R1SUS9Y51N3QO8|B006Y3S838|     308351589|Munchkin Click Lo...|            Baby|          1|           42|         46|   N|                N|Very interesting ...|Man Munchkin's re...| 2015-08-30|0.9130434782608695|\n",
            "|         US|    8051838|R3DKDS7674IU4Z|B00BLBLR1I|     186458204|Spectra Baby USA ...|            Baby|          5|           29|         31|   N|                N|       Great pump!!!|I love my spectra...| 2015-08-30|0.9354838709677419|\n",
            "|         US|   18224278|R3VER1GSR74AHB|B00UE7RP20|     479561903|BabyKeeps Adjusta...|            Baby|          4|           38|         39|   N|                Y|Good for cat proo...|[[VIDEOID:540ba57...| 2015-08-30|0.9743589743589743|\n",
            "|         US|    9204908| R4KKILPJRQ2J5|B005CF35O6|     813915180|Baby Einstein Ani...|            Baby|          1|           12|         20|   N|                Y|cheap...w visual aid|It's been a month...| 2015-08-29|               0.6|\n",
            "|         US|   26735716| RE1XO71W5US5S|B00VAXZ8T4|     482188959|ezpz Happy Bowl -...|            Baby|          1|           28|         30|   N|                Y|Nice to look at b...|My baby of 7 mont...| 2015-08-29|0.9333333333333333|\n",
            "+-----------+-----------+--------------+----------+--------------+--------------------+----------------+-----------+-------------+-----------+----+-----------------+--------------------+--------------------+-----------+------------------+\n",
            "only showing top 20 rows\n",
            "\n"
          ],
          "name": "stdout"
        }
      ]
    },
    {
      "cell_type": "code",
      "metadata": {
        "colab": {
          "base_uri": "https://localhost:8080/"
        },
        "id": "L84i0Rg2SZZv",
        "outputId": "6ba81a9d-25a0-40ba-80f3-91b832d52475"
      },
      "source": [
        "#Determine total number of reviews for paid reviews\n",
        "total_paid_reviews = df_reviewpaid.count() \n",
        "total_paid_reviews"
      ],
      "execution_count": 21,
      "outputs": [
        {
          "output_type": "execute_result",
          "data": {
            "text/plain": [
              "463"
            ]
          },
          "metadata": {
            "tags": []
          },
          "execution_count": 21
        }
      ]
    },
    {
      "cell_type": "code",
      "metadata": {
        "colab": {
          "base_uri": "https://localhost:8080/"
        },
        "id": "z6nkggNgSrNc",
        "outputId": "6a7cdaae-5f0d-4453-bbef-613f11dc8812"
      },
      "source": [
        "#Determine total number of reviews for unpaid  reviews\n",
        "total_unpaid_reviews = df_notpaid.count() \n",
        "total_unpaid_reviews"
      ],
      "execution_count": 22,
      "outputs": [
        {
          "output_type": "execute_result",
          "data": {
            "text/plain": [
              "25094"
            ]
          },
          "metadata": {
            "tags": []
          },
          "execution_count": 22
        }
      ]
    },
    {
      "cell_type": "code",
      "metadata": {
        "colab": {
          "base_uri": "https://localhost:8080/"
        },
        "id": "WTZunLILTaFC",
        "outputId": "91afd9a7-da69-4ab7-d20b-43e4867a433f"
      },
      "source": [
        " #The number of 5-star reviews for paid reviews\n",
        "five_star_reviewpaid = df_reviewpaid.filter(df_reviewpaid.star_rating == 5).count()\n",
        "five_star_reviewpaid"
      ],
      "execution_count": 23,
      "outputs": [
        {
          "output_type": "execute_result",
          "data": {
            "text/plain": [
              "202"
            ]
          },
          "metadata": {
            "tags": []
          },
          "execution_count": 23
        }
      ]
    },
    {
      "cell_type": "code",
      "metadata": {
        "colab": {
          "base_uri": "https://localhost:8080/"
        },
        "id": "DEy6PfUnT7LL",
        "outputId": "2d4eacb2-fd74-4aa8-9663-55742178850e"
      },
      "source": [
        " #The number of 5-star reviews for unpaid reviews\n",
        "five_star_unpaid = df_notpaid.filter(df_notpaid.star_rating == 5).count()\n",
        "five_star_unpaid"
      ],
      "execution_count": 24,
      "outputs": [
        {
          "output_type": "execute_result",
          "data": {
            "text/plain": [
              "12033"
            ]
          },
          "metadata": {
            "tags": []
          },
          "execution_count": 24
        }
      ]
    },
    {
      "cell_type": "code",
      "metadata": {
        "colab": {
          "base_uri": "https://localhost:8080/"
        },
        "id": "17n6-i0VUBv4",
        "outputId": "517b774c-7c0d-4875-c1d8-3138fe76e380"
      },
      "source": [
        "#The percentage of 5-star reviews for the two types of review (unpaid).\n",
        "percent_unpaid = (five_star_unpaid / total_unpaid_reviews) * 100 \n",
        "percent_unpaid"
      ],
      "execution_count": 26,
      "outputs": [
        {
          "output_type": "execute_result",
          "data": {
            "text/plain": [
              "47.95170160197657"
            ]
          },
          "metadata": {
            "tags": []
          },
          "execution_count": 26
        }
      ]
    },
    {
      "cell_type": "code",
      "metadata": {
        "colab": {
          "base_uri": "https://localhost:8080/"
        },
        "id": "lWe2fc4DU0Ur",
        "outputId": "fb6dd5b5-2454-45fb-9186-78bb5303c6e0"
      },
      "source": [
        "#The percentage of 5-star reviews for the two types of review (paid).\n",
        "percent_paid = (five_star_reviewpaid / total_paid_reviews) * 100 \n",
        "percent_paid"
      ],
      "execution_count": 27,
      "outputs": [
        {
          "output_type": "execute_result",
          "data": {
            "text/plain": [
              "43.628509719222464"
            ]
          },
          "metadata": {
            "tags": []
          },
          "execution_count": 27
        }
      ]
    },
    {
      "cell_type": "code",
      "metadata": {
        "id": "pVL0SstjVGm2"
      },
      "source": [
        "#Get Counts for Summary \n",
        "top50_percent = Newdfvotes_df.count() \n",
        "fivestartotal = five_star_reviewpaid + five_star_unpaid"
      ],
      "execution_count": 34,
      "outputs": []
    },
    {
      "cell_type": "code",
      "metadata": {
        "colab": {
          "base_uri": "https://localhost:8080/",
          "height": 173
        },
        "id": "G_KNdya9WIro",
        "outputId": "40821aa2-ea9e-40d6-9efc-cd7bc0db4398"
      },
      "source": [
        "import pandas as pd\n",
        "#Create Summary Table\n",
        "summary = {'Title' :['Total Number of Reviews', ' Number of 5 Star Votes', 'Percent of 5Star Votes of Paid Reviews', 'Percent of 5Star Votes Unpaid Reviews'], \n",
        "           'Value': [Newdfvotes_df, fivestartotal, percent_paid, percent_unpaid]}\n",
        "summary_df = pd.DataFrame(summary)\n",
        "summary_df"
      ],
      "execution_count": 36,
      "outputs": [
        {
          "output_type": "execute_result",
          "data": {
            "text/html": [
              "<div>\n",
              "<style scoped>\n",
              "    .dataframe tbody tr th:only-of-type {\n",
              "        vertical-align: middle;\n",
              "    }\n",
              "\n",
              "    .dataframe tbody tr th {\n",
              "        vertical-align: top;\n",
              "    }\n",
              "\n",
              "    .dataframe thead th {\n",
              "        text-align: right;\n",
              "    }\n",
              "</style>\n",
              "<table border=\"1\" class=\"dataframe\">\n",
              "  <thead>\n",
              "    <tr style=\"text-align: right;\">\n",
              "      <th></th>\n",
              "      <th>Title</th>\n",
              "      <th>Value</th>\n",
              "    </tr>\n",
              "  </thead>\n",
              "  <tbody>\n",
              "    <tr>\n",
              "      <th>0</th>\n",
              "      <td>Total Number of Reviews</td>\n",
              "      <td>DataFrame[marketplace: string, customer_id: in...</td>\n",
              "    </tr>\n",
              "    <tr>\n",
              "      <th>1</th>\n",
              "      <td>Number of 5 Star Votes</td>\n",
              "      <td>12235</td>\n",
              "    </tr>\n",
              "    <tr>\n",
              "      <th>2</th>\n",
              "      <td>Percent of 5Star Votes of Paid Reviews</td>\n",
              "      <td>43.6285</td>\n",
              "    </tr>\n",
              "    <tr>\n",
              "      <th>3</th>\n",
              "      <td>Percent of 5Star Votes Unpaid Reviews</td>\n",
              "      <td>47.9517</td>\n",
              "    </tr>\n",
              "  </tbody>\n",
              "</table>\n",
              "</div>"
            ],
            "text/plain": [
              "                                    Title                                              Value\n",
              "0                 Total Number of Reviews  DataFrame[marketplace: string, customer_id: in...\n",
              "1                  Number of 5 Star Votes                                              12235\n",
              "2  Percent of 5Star Votes of Paid Reviews                                            43.6285\n",
              "3   Percent of 5Star Votes Unpaid Reviews                                            47.9517"
            ]
          },
          "metadata": {
            "tags": []
          },
          "execution_count": 36
        }
      ]
    },
    {
      "cell_type": "code",
      "metadata": {
        "id": "97tB-JQvXzJU"
      },
      "source": [
        ""
      ],
      "execution_count": null,
      "outputs": []
    }
  ]
}